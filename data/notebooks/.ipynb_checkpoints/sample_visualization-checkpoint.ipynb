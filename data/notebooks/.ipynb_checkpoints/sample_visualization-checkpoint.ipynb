{
 "cells": [
  {
   "cell_type": "code",
   "execution_count": 1,
   "metadata": {},
   "outputs": [
    {
     "name": "stderr",
     "output_type": "stream",
     "text": [
      "/Users/karola/miniconda3/envs/breast_cancer/lib/python3.6/site-packages/matplotlib/__init__.py:886: MatplotlibDeprecationWarning: \nexamples.directory is deprecated; in the future, examples will be found relative to the 'datapath' directory.\n  \"found relative to the 'datapath' directory.\".format(key))\n"
     ]
    }
   ],
   "source": [
    "import pandas as pd\n",
    "import matplotlib.pyplot as plt\n",
    "import seaborn\n",
    "import numpy as np\n",
    "from sklearn import preprocessing "
   ]
  },
  {
   "cell_type": "code",
   "execution_count": 2,
   "metadata": {},
   "outputs": [],
   "source": [
    "df = pd.read_csv(\"/Users/karola/PycharmProjects/breast_cancer/data/datasets/processed_data.csv\")\n",
    "labels = df.diagnosis\n",
    "important_features = df.loc[:, ['area_se', 'texture_mean', 'texture_worst', 'concave points_worst', 'concavity_worst',\n",
    "                                'smoothness_worst', 'perimeter_worst', 'smoothness_mean', 'concave points_mean', 'area_worst']]"
   ]
  },
  {
   "cell_type": "code",
   "execution_count": 3,
   "metadata": {},
   "outputs": [],
   "source": [
    "to_concat = [labels, important_features]\n",
    "data_visualization = pd.concat(to_concat, axis=1)\n",
    "plt.figure(figsize=(10,10))\n",
    "data = pd.melt(data_visualization,id_vars=\"diagnosis\",var_name=\"features\",value_name='value')\n",
    "plt.xticks(rotation=90)\n",
    "seaborn.swarmplot(x='features', y='value', hue='diagnosis', data=data)\n",
    "plt.show()"
   ]
  },
  {
   "cell_type": "code",
   "execution_count": null,
   "metadata": {},
   "outputs": [],
   "source": []
  }
 ],
 "metadata": {
  "kernelspec": {
   "display_name": "Python 3",
   "language": "python",
   "name": "python3"
  },
  "language_info": {
   "codemirror_mode": {
    "name": "ipython",
    "version": 3
   },
   "file_extension": ".py",
   "mimetype": "text/x-python",
   "name": "python",
   "nbconvert_exporter": "python",
   "pygments_lexer": "ipython3",
   "version": "3.6.7"
  }
 },
 "nbformat": 4,
 "nbformat_minor": 1
}
